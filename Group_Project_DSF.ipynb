{
  "cells": [
    {
      "cell_type": "code",
      "source": [
        "import pandas as pd\n",
        "import numpy as np\n",
        "\n",
        "!wget -O Player_Stats.xlsx \"https://github.com/JeffYu12/Group-Project-/raw/main/Player%20Stats.xlsx\"\n",
        "\n",
        "data = pd.read_excel(\"Player_Stats.xlsx\", sheet_name=None)"
      ],
      "metadata": {
        "colab": {
          "base_uri": "https://localhost:8080/"
        },
        "id": "l8cbA5YMGCed",
        "outputId": "77465ed5-dede-4fc9-faa5-1ec734b99ed0"
      },
      "execution_count": 58,
      "outputs": [
        {
          "output_type": "stream",
          "name": "stdout",
          "text": [
            "--2024-11-05 17:05:19--  https://github.com/JeffYu12/Group-Project-/raw/main/Player%20Stats.xlsx\n",
            "Resolving github.com (github.com)... 20.27.177.113\n",
            "Connecting to github.com (github.com)|20.27.177.113|:443... connected.\n",
            "HTTP request sent, awaiting response... 302 Found\n",
            "Location: https://raw.githubusercontent.com/JeffYu12/Group-Project-/main/Player%20Stats.xlsx [following]\n",
            "--2024-11-05 17:05:20--  https://raw.githubusercontent.com/JeffYu12/Group-Project-/main/Player%20Stats.xlsx\n",
            "Resolving raw.githubusercontent.com (raw.githubusercontent.com)... 185.199.108.133, 185.199.109.133, 185.199.110.133, ...\n",
            "Connecting to raw.githubusercontent.com (raw.githubusercontent.com)|185.199.108.133|:443... connected.\n",
            "HTTP request sent, awaiting response... 200 OK\n",
            "Length: 57443 (56K) [application/octet-stream]\n",
            "Saving to: ‘Player_Stats.xlsx’\n",
            "\n",
            "Player_Stats.xlsx   100%[===================>]  56.10K  --.-KB/s    in 0.04s   \n",
            "\n",
            "2024-11-05 17:05:20 (1.32 MB/s) - ‘Player_Stats.xlsx’ saved [57443/57443]\n",
            "\n"
          ]
        }
      ]
    },
    {
      "cell_type": "markdown",
      "source": [
        "Questions:\n",
        "\n",
        "1. How does the Celtic's shooting stats change from the 22-23 season to 23-24 season when playing the Mavericks.  \n",
        "2. Compare assist to turnover ratio based on 5 main players vs lineup with subs (5th, 6th, etc players off the bench).  \n",
        "\n",
        "3. How well does Jayson Tatum do in offense vs other starters on the court per game."
      ],
      "metadata": {
        "id": "1t5xbbZsG3SV"
      }
    },
    {
      "cell_type": "code",
      "source": [
        "# Import the\n",
        "sscel = data['Shooting Stats 22-23'].values\n",
        "ssmav = data['Shooting 23-24 vs Mavs'].values\n",
        "\n",
        "names_dict = {sscel[i, 0]: i for i in range(sscel.shape[0])}\n",
        "print(ssmav[:-1, 0])"
      ],
      "metadata": {
        "colab": {
          "base_uri": "https://localhost:8080/"
        },
        "id": "QIynBPQpGI3i",
        "outputId": "6bfe2d6a-233b-425b-de8f-a1ee57d108c8"
      },
      "execution_count": 72,
      "outputs": [
        {
          "output_type": "stream",
          "name": "stdout",
          "text": [
            "['Jayson Tatum\\xa0SF' 'Jaylen Brown\\xa0SG' 'Kristaps Porzingis\\xa0C'\n",
            " 'Jrue Holiday\\xa0PG' 'Al Horford\\xa0C' 'Derrick White\\xa0PG'\n",
            " 'Payton Pritchard\\xa0PG' 'Xavier Tillman\\xa0F\\xa0*'\n",
            " 'Oshae Brissett\\xa0SF' 'Sam Hauser\\xa0SF' 'Luke Kornet\\xa0C'\n",
            " 'Jaden Springer\\xa0G\\xa0*' 'Svi Mykhailiuk\\xa0SG']\n"
          ]
        }
      ]
    },
    {
      "cell_type": "code",
      "source": [
        "names = ssmav[:-1, 0]\n",
        "\n",
        "cleaned_names = np.array([name.split('\\\\')[0] for name in names])\n",
        "\n",
        "print(cleaned_names)"
      ],
      "metadata": {
        "colab": {
          "base_uri": "https://localhost:8080/"
        },
        "id": "qQGtQKp_J94G",
        "outputId": "a5d31a9f-2747-4eeb-90b8-59c96364f57f"
      },
      "execution_count": 83,
      "outputs": [
        {
          "output_type": "stream",
          "name": "stdout",
          "text": [
            "['Jayson Tatum\\xa0SF' 'Jaylen Brown\\xa0SG' 'Kristaps Porzingis\\xa0C'\n",
            " 'Jrue Holiday\\xa0PG' 'Al Horford\\xa0C' 'Derrick White\\xa0PG'\n",
            " 'Payton Pritchard\\xa0PG' 'Xavier Tillman\\xa0F\\xa0*'\n",
            " 'Oshae Brissett\\xa0SF' 'Sam Hauser\\xa0SF' 'Luke Kornet\\xa0C'\n",
            " 'Jaden Springer\\xa0G\\xa0*' 'Svi Mykhailiuk\\xa0SG']\n"
          ]
        }
      ]
    },
    {
      "cell_type": "code",
      "source": [],
      "metadata": {
        "id": "KK7P2_f6OaYm"
      },
      "execution_count": 56,
      "outputs": []
    }
  ],
  "metadata": {
    "colab": {
      "provenance": []
    },
    "kernelspec": {
      "display_name": "Python 3",
      "name": "python3"
    },
    "language_info": {
      "name": "python"
    }
  },
  "nbformat": 4,
  "nbformat_minor": 0
}